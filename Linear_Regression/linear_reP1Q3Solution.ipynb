{
 "cells": [
  {
   "cell_type": "code",
   "execution_count": 110,
   "metadata": {},
   "outputs": [],
   "source": [
    "import sys\n",
    "import numpy as np\n",
    "import pandas as pd\n",
    "from numpy import linalg as lin\n",
    "import matplotlib.pyplot as plt\n"
   ]
  },
  {
   "cell_type": "code",
   "execution_count": 111,
   "metadata": {},
   "outputs": [
    {
     "data": {
      "text/html": [
       "<div>\n",
       "<style scoped>\n",
       "    .dataframe tbody tr th:only-of-type {\n",
       "        vertical-align: middle;\n",
       "    }\n",
       "\n",
       "    .dataframe tbody tr th {\n",
       "        vertical-align: top;\n",
       "    }\n",
       "\n",
       "    .dataframe thead th {\n",
       "        text-align: right;\n",
       "    }\n",
       "</style>\n",
       "<table border=\"1\" class=\"dataframe\">\n",
       "  <thead>\n",
       "    <tr style=\"text-align: right;\">\n",
       "      <th></th>\n",
       "      <th>x1</th>\n",
       "      <th>x2</th>\n",
       "      <th>x3</th>\n",
       "      <th>y</th>\n",
       "    </tr>\n",
       "  </thead>\n",
       "  <tbody>\n",
       "    <tr>\n",
       "      <th>0</th>\n",
       "      <td>1</td>\n",
       "      <td>-1</td>\n",
       "      <td>2</td>\n",
       "      <td>1</td>\n",
       "    </tr>\n",
       "    <tr>\n",
       "      <th>1</th>\n",
       "      <td>1</td>\n",
       "      <td>1</td>\n",
       "      <td>3</td>\n",
       "      <td>4</td>\n",
       "    </tr>\n",
       "    <tr>\n",
       "      <th>2</th>\n",
       "      <td>-1</td>\n",
       "      <td>1</td>\n",
       "      <td>0</td>\n",
       "      <td>-1</td>\n",
       "    </tr>\n",
       "    <tr>\n",
       "      <th>3</th>\n",
       "      <td>1</td>\n",
       "      <td>2</td>\n",
       "      <td>-4</td>\n",
       "      <td>-2</td>\n",
       "    </tr>\n",
       "    <tr>\n",
       "      <th>4</th>\n",
       "      <td>3</td>\n",
       "      <td>-1</td>\n",
       "      <td>-1</td>\n",
       "      <td>0</td>\n",
       "    </tr>\n",
       "  </tbody>\n",
       "</table>\n",
       "</div>"
      ],
      "text/plain": [
       "   x1  x2  x3  y\n",
       "0   1  -1   2  1\n",
       "1   1   1   3  4\n",
       "2  -1   1   0 -1\n",
       "3   1   2  -4 -2\n",
       "4   3  -1  -1  0"
      ]
     },
     "execution_count": 111,
     "metadata": {},
     "output_type": "execute_result"
    }
   ],
   "source": [
    "# def _import_data\n",
    "path = 'data1.txt'\n",
    "data1=pd.read_csv(path,header=None, names=['x1','x2','x3','y'])\n",
    "data1.head()"
   ]
  },
  {
   "cell_type": "code",
   "execution_count": 112,
   "metadata": {},
   "outputs": [
    {
     "data": {
      "text/html": [
       "<div>\n",
       "<style scoped>\n",
       "    .dataframe tbody tr th:only-of-type {\n",
       "        vertical-align: middle;\n",
       "    }\n",
       "\n",
       "    .dataframe tbody tr th {\n",
       "        vertical-align: top;\n",
       "    }\n",
       "\n",
       "    .dataframe thead th {\n",
       "        text-align: right;\n",
       "    }\n",
       "</style>\n",
       "<table border=\"1\" class=\"dataframe\">\n",
       "  <thead>\n",
       "    <tr style=\"text-align: right;\">\n",
       "      <th></th>\n",
       "      <th>ones</th>\n",
       "      <th>x1</th>\n",
       "      <th>x2</th>\n",
       "      <th>x3</th>\n",
       "      <th>y</th>\n",
       "    </tr>\n",
       "  </thead>\n",
       "  <tbody>\n",
       "    <tr>\n",
       "      <th>0</th>\n",
       "      <td>1</td>\n",
       "      <td>1</td>\n",
       "      <td>-1</td>\n",
       "      <td>2</td>\n",
       "      <td>1</td>\n",
       "    </tr>\n",
       "    <tr>\n",
       "      <th>1</th>\n",
       "      <td>1</td>\n",
       "      <td>1</td>\n",
       "      <td>1</td>\n",
       "      <td>3</td>\n",
       "      <td>4</td>\n",
       "    </tr>\n",
       "    <tr>\n",
       "      <th>2</th>\n",
       "      <td>1</td>\n",
       "      <td>-1</td>\n",
       "      <td>1</td>\n",
       "      <td>0</td>\n",
       "      <td>-1</td>\n",
       "    </tr>\n",
       "    <tr>\n",
       "      <th>3</th>\n",
       "      <td>1</td>\n",
       "      <td>1</td>\n",
       "      <td>2</td>\n",
       "      <td>-4</td>\n",
       "      <td>-2</td>\n",
       "    </tr>\n",
       "    <tr>\n",
       "      <th>4</th>\n",
       "      <td>1</td>\n",
       "      <td>3</td>\n",
       "      <td>-1</td>\n",
       "      <td>-1</td>\n",
       "      <td>0</td>\n",
       "    </tr>\n",
       "  </tbody>\n",
       "</table>\n",
       "</div>"
      ],
      "text/plain": [
       "   ones  x1  x2  x3  y\n",
       "0     1   1  -1   2  1\n",
       "1     1   1   1   3  4\n",
       "2     1  -1   1   0 -1\n",
       "3     1   1   2  -4 -2\n",
       "4     1   3  -1  -1  0"
      ]
     },
     "execution_count": 112,
     "metadata": {},
     "output_type": "execute_result"
    }
   ],
   "source": [
    "#data preprocess\n",
    "data1.insert(0,'ones',1)\n",
    "data1.head()"
   ]
  },
  {
   "cell_type": "code",
   "execution_count": 113,
   "metadata": {},
   "outputs": [],
   "source": [
    "# print(theta)\n",
    "# theta[0,1]=2\n",
    "# print(theta)"
   ]
  },
  {
   "cell_type": "code",
   "execution_count": 114,
   "metadata": {},
   "outputs": [
    {
     "name": "stdout",
     "output_type": "stream",
     "text": [
      "(5, 4) (5, 1) (1, 4) 5\n"
     ]
    }
   ],
   "source": [
    "#traniing preprocess\n",
    "cols=data1.shape[1]\n",
    "x = data1.iloc[:,0:cols-1]\n",
    "y = data1.iloc[:,cols-1:cols]\n",
    "x = np.matrix(x.values)\n",
    "y = np.matrix(y.values)\n",
    "# theta = np.matrix(np.zeros(4))\n",
    "theta=np.matrix([0.0,0.0,0.0,0.0])\n",
    "print(x.shape,y.shape,theta.shape,len(x))"
   ]
  },
  {
   "cell_type": "code",
   "execution_count": 115,
   "metadata": {},
   "outputs": [],
   "source": [
    "#define cost \n",
    "def computeCost(x,y,theta):\n",
    "    innerCost=np.power((y-x * theta.T),2)\n",
    "    sumCost=(np.sum(innerCost)/2)\n",
    "    return sumCost"
   ]
  },
  {
   "cell_type": "code",
   "execution_count": 117,
   "metadata": {},
   "outputs": [],
   "source": [
    "# define the gradient\n",
    "def gradientDescent(x,y,theta,alpha,iters):\n",
    "    temp=theta\n",
    "    parameters = 4\n",
    "    cost=np.zeros(iters)\n",
    "    grad=np.zeros(parameters)\n",
    "    for i in range(iters):\n",
    "        error = y-x * theta.T\n",
    "        for j in range(parameters):\n",
    "            grad[j] = -np.sum(np.multiply(error,x[:,j]))\n",
    "            temp[0,j]=theta[0,j]-alpha * grad[j]\n",
    "        theta=temp\n",
    "        cost[i]=computeCost(x,y,theta)\n",
    "    return cost[iters-1],theta\n",
    "                \n"
   ]
  },
  {
   "cell_type": "code",
   "execution_count": 126,
   "metadata": {},
   "outputs": [],
   "source": [
    "#stochastic gradient\n",
    "def gradientDescent(x,y,theta,alpha,i):\n",
    "    temp=theta\n",
    "    parameters = 4\n",
    "    cost=np.zeros(i)\n",
    "    grad=np.zeros(parameters)\n",
    "    error = y-x * theta.T\n",
    "    for j in range(parameters):\n",
    "        grad[j] = error[i] * x[i,j]\n",
    "        temp[0,j]=theta[0,j]-alpha * grad[j]\n",
    "    print(grad,'grad')\n",
    "    theta=temp\n",
    "    cost=computeCost(x,y,theta)\n",
    "    return cost,theta"
   ]
  },
  {
   "cell_type": "markdown",
   "metadata": {},
   "source": []
  },
  {
   "cell_type": "code",
   "execution_count": 127,
   "metadata": {},
   "outputs": [
    {
     "name": "stdout",
     "output_type": "stream",
     "text": [
      "[[0. 0. 0. 0.]]\n",
      "[ 1.  1. -1.  2.] grad\n",
      "17.060000000000002 [[-0.1 -0.1  0.1 -0.2]] costFinal,theta\n",
      "[ 4.7  4.7  4.7 14.1] grad\n",
      "87.6681 [[-0.57 -0.57 -0.37 -1.61]] costFinal,theta\n",
      "[-0.63  0.63 -0.63 -0.  ] grad\n",
      "88.38100800000001 [[-0.507 -0.633 -0.307 -1.61 ]] costFinal,theta\n",
      "[ -6.686  -6.686 -13.372  26.744] grad\n",
      "413.58778056000006 [[ 0.1616  0.0356  1.0302 -4.2844]] costFinal,theta\n",
      "[ -3.5226 -10.5678   3.5226   3.5226] grad\n",
      "472.7118527964002 [[ 0.51386  1.09238  0.67794 -4.63666]] costFinal,theta\n"
     ]
    }
   ],
   "source": [
    "#perfrom linear regression and get the error\n",
    "theta=np.matrix([0.0,0.0,0.0,0.0])\n",
    "alpha=0.1\n",
    "print(theta)\n",
    "for i in range(5):\n",
    "    costFinal,theta=gradientDescent(x,y,theta,alpha,i)\n",
    "    print(costFinal,theta,\"costFinal,theta\")"
   ]
  },
  {
   "cell_type": "markdown",
   "metadata": {},
   "source": []
  }
 ],
 "metadata": {
  "kernelspec": {
   "display_name": "Python 3.9.12 ('base')",
   "language": "python",
   "name": "python3"
  },
  "language_info": {
   "codemirror_mode": {
    "name": "ipython",
    "version": 3
   },
   "file_extension": ".py",
   "mimetype": "text/x-python",
   "name": "python",
   "nbconvert_exporter": "python",
   "pygments_lexer": "ipython3",
   "version": "3.9.12"
  },
  "orig_nbformat": 4,
  "vscode": {
   "interpreter": {
    "hash": "5486a802d94f70a4c28ef8aae5c17580948097a99489b4df271cbee1d7448fa3"
   }
  }
 },
 "nbformat": 4,
 "nbformat_minor": 2
}
